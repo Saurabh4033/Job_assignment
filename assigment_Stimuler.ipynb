{
  "nbformat": 4,
  "nbformat_minor": 0,
  "metadata": {
    "colab": {
      "provenance": []
    },
    "kernelspec": {
      "name": "python3",
      "display_name": "Python 3"
    },
    "language_info": {
      "name": "python"
    }
  },
  "cells": [
    {
      "cell_type": "markdown",
      "source": [
        "#Recommendation System"
      ],
      "metadata": {
        "id": "OUC_grEoqaU3"
      }
    },
    {
      "cell_type": "code",
      "source": [
        "from datetime import datetime, timedelta\n",
        "import random\n",
        "import math\n",
        "from typing import List, Dict, Optional"
      ],
      "metadata": {
        "id": "qza2fmkW7tFF"
      },
      "execution_count": 13,
      "outputs": []
    },
    {
      "cell_type": "code",
      "source": [
        "# Mock database functions (to be implemented based on actual data storage)\n",
        "def fetch_user_errors(user_id: str, time_window: int) -> List[Dict]:\n",
        "    \"\"\"Fetch user errors within a given time window.\"\"\"\n",
        "    # Mock data for demonstration\n",
        "    return [\n",
        "        {\n",
        "            \"timestamp\": datetime.now() - timedelta(days=random.randint(0, time_window)),\n",
        "            \"category\": random.choice([\"Grammar\", \"Vocabulary\", \"Pronunciation\", \"Fluency\"]),\n",
        "            \"subcategory\": random.choice([\"prepositions\", \"verb tense\", \"word choice\", \"intonation\"]),\n",
        "            \"severity\": random.randint(1, 5),\n",
        "        }\n",
        "        for _ in range(20)\n",
        "    ]"
      ],
      "metadata": {
        "id": "n7WqIJci9vHP"
      },
      "execution_count": 14,
      "outputs": []
    },
    {
      "cell_type": "code",
      "source": [
        "def get_user_profile(user_id: str) -> Dict:\n",
        "    \"\"\"Fetch user profile data.\"\"\"\n",
        "    return {\n",
        "        \"country\": random.choice([\"Japan\", \"India\", \"USA\", \"Germany\"]),\n",
        "        \"age_band\": random.choice([\"18-25\", \"26-35\", \"36-45\"]),\n",
        "        \"interests\": random.sample([\"Anime\", \"Movies\", \"Sports\", \"Technology\"], 2),\n",
        "        \"proficiency_level\": random.choice([\"beginner\", \"intermediate\", \"advanced\"]),\n",
        "    }"
      ],
      "metadata": {
        "id": "IU7KOs0-9xn5"
      },
      "execution_count": 15,
      "outputs": []
    },
    {
      "cell_type": "code",
      "source": [
        "def find_exercises(category: str, subcategory: str, difficulty: int) -> List[Dict]:\n",
        "    \"\"\"Find exercises matching the given criteria.\"\"\"\n",
        "    # Mock data for demonstration\n",
        "    return [\n",
        "        {\n",
        "            \"id\": f\"ex{random.randint(100, 999)}\",\n",
        "            \"category\": category,\n",
        "            \"subcategory\": subcategory,\n",
        "            \"difficulty\": difficulty,\n",
        "            \"themes\": random.sample([\"Anime\", \"Movies\", \"Sports\", \"Technology\"], 2),\n",
        "            \"format\": random.choice([\"fill-in-blanks\", \"multiple-choice\", \"role-play\"]),\n",
        "        }\n",
        "        for _ in range(5)\n",
        "    ]"
      ],
      "metadata": {
        "id": "srVYwbV69zeK"
      },
      "execution_count": 16,
      "outputs": []
    },
    {
      "cell_type": "code",
      "source": [
        "def is_new_user(user_id: str) -> bool:\n",
        "    \"\"\"Check if the user is new.\"\"\"\n",
        "    # Mock implementation\n",
        "    return random.choice([True, False])"
      ],
      "metadata": {
        "id": "UeSRTXbs91sF"
      },
      "execution_count": 17,
      "outputs": []
    },
    {
      "cell_type": "code",
      "source": [
        "def get_last_practice_time(user_id: str, category: str) -> datetime:\n",
        "    \"\"\"Get the last time the user practiced a specific category.\"\"\"\n",
        "    # Mock implementation\n",
        "    return datetime.now() - timedelta(days=random.randint(1, 30))"
      ],
      "metadata": {
        "id": "WBkvlUgy933G"
      },
      "execution_count": 18,
      "outputs": []
    },
    {
      "cell_type": "code",
      "source": [
        "def get_improvement_rate(user_id: str, category: str) -> float:\n",
        "    \"\"\"Calculate the improvement rate for a category.\"\"\"\n",
        "    # Mock implementation\n",
        "    return random.uniform(0.5, 1.5)"
      ],
      "metadata": {
        "id": "hmwUaf8N930i"
      },
      "execution_count": 19,
      "outputs": []
    },
    {
      "cell_type": "code",
      "source": [
        "def map_country_to_themes(country: str) -> List[str]:\n",
        "    \"\"\"Map a country to cultural themes.\"\"\"\n",
        "    themes = {\n",
        "        \"Japan\": [\"Anime\", \"Sushi\", \"Samurai\"],\n",
        "        \"India\": [\"Bollywood\", \"Cricket\", \"Yoga\"],\n",
        "        \"USA\": [\"Hollywood\", \"Basketball\", \"Technology\"],\n",
        "        \"Germany\": [\"Oktoberfest\", \"Cars\", \"Classical Music\"],\n",
        "    }\n",
        "    return themes.get(country, [\"General\"])"
      ],
      "metadata": {
        "id": "M63zRDVM9_AI"
      },
      "execution_count": 20,
      "outputs": []
    },
    {
      "cell_type": "code",
      "source": [
        "def is_age_appropriate(exercise: Dict, age_band: str) -> float:\n",
        "    \"\"\"Check if the exercise is age-appropriate.\"\"\"\n",
        "    # Mock implementation\n",
        "    return 1.0  # Assume all exercises are age-appropriate"
      ],
      "metadata": {
        "id": "2wMxwh46-A7W"
      },
      "execution_count": 21,
      "outputs": []
    },
    {
      "cell_type": "code",
      "source": [
        "def get_format_diversity_score(user_id: str, format: str) -> float:\n",
        "    \"\"\"Calculate the format diversity score.\"\"\"\n",
        "    # Mock implementation\n",
        "    return 1.0  # Assume no format repetition\n"
      ],
      "metadata": {
        "id": "L9WOZVka-DLG"
      },
      "execution_count": 22,
      "outputs": []
    },
    {
      "cell_type": "code",
      "source": [
        "def generate_new_exercise(category: str, subcategory: str, user_profile: Dict) -> Dict:\n",
        "    \"\"\"Generate a new exercise dynamically.\"\"\"\n",
        "    return {\n",
        "        \"id\": f\"ex{random.randint(1000, 9999)}\",\n",
        "        \"category\": category,\n",
        "        \"subcategory\": subcategory,\n",
        "        \"themes\": random.sample([\"Anime\", \"Movies\", \"Sports\", \"Technology\"], 2),\n",
        "        \"format\": random.choice([\"fill-in-blanks\", \"multiple-choice\", \"role-play\"]),\n",
        "        \"difficulty\": random.randint(1, 5),\n",
        "        \"generated\": True,\n",
        "    }"
      ],
      "metadata": {
        "id": "g4UPg1vc-FAR"
      },
      "execution_count": 23,
      "outputs": []
    },
    {
      "cell_type": "code",
      "source": [
        "# Core Functions\n",
        "def analyze_error_patterns(user_id: str, time_window: int = 30) -> Dict:\n",
        "    \"\"\"Analyze error patterns for a user.\"\"\"\n",
        "    user_errors = fetch_user_errors(user_id, time_window)\n",
        "    error_profile = {}\n",
        "\n",
        "    for category in [\"Grammar\", \"Vocabulary\", \"Pronunciation\", \"Fluency\"]:\n",
        "        category_errors = [e for e in user_errors if e[\"category\"] == category]\n",
        "\n",
        "        # Calculate frequency, severity, and recency\n",
        "        frequency = len(category_errors) / len(user_errors) if user_errors else 0\n",
        "        avg_severity = sum(e[\"severity\"] for e in category_errors) / len(category_errors) if category_errors else 0\n",
        "\n",
        "        now = datetime.now()\n",
        "        recency_scores = [(now - e[\"timestamp\"]).days for e in category_errors]\n",
        "        recency_factor = sum(1 / (r + 1) for r in recency_scores) / len(recency_scores) if recency_scores else 0\n",
        "\n",
        "        # Analyze subcategories\n",
        "        subcategories = {}\n",
        "        for error in category_errors:\n",
        "            subcategory = error[\"subcategory\"]\n",
        "            if subcategory not in subcategories:\n",
        "                subcategories[subcategory] = {\"count\": 0, \"severity\": 0}\n",
        "            subcategories[subcategory][\"count\"] += 1\n",
        "            subcategories[subcategory][\"severity\"] += error[\"severity\"]\n",
        "\n",
        "        # Normalize subcategory data\n",
        "        for subcat in subcategories:\n",
        "            subcategories[subcat][\"severity\"] /= subcategories[subcat][\"count\"]\n",
        "            subcategories[subcat][\"frequency\"] = subcategories[subcat][\"count\"] / len(category_errors)\n",
        "\n",
        "        error_profile[category] = {\n",
        "            \"frequency\": frequency,\n",
        "            \"severity\": avg_severity,\n",
        "            \"recency_factor\": recency_factor,\n",
        "            \"subcategories\": subcategories,\n",
        "        }\n",
        "\n",
        "    return error_profile"
      ],
      "metadata": {
        "id": "77reL0a9-J4C"
      },
      "execution_count": 24,
      "outputs": []
    },
    {
      "cell_type": "code",
      "source": [
        "def select_category(user_id: str) -> str:\n",
        "    \"\"\"Select the category for the next exercise.\"\"\"\n",
        "    error_profile = analyze_error_patterns(user_id)\n",
        "\n",
        "    if is_new_user(user_id):\n",
        "        return handle_cold_start(user_id)\n",
        "\n",
        "    category_scores = {}\n",
        "    for category, data in error_profile.items():\n",
        "        priority = data[\"frequency\"] * data[\"severity\"] * data[\"recency_factor\"]\n",
        "        last_practice = get_last_practice_time(user_id, category)\n",
        "        time_since_practice = (datetime.now() - last_practice).days\n",
        "        spaced_repetition_factor = 1 + math.log(1 + time_since_practice)\n",
        "        improvement_rate = get_improvement_rate(user_id, category)\n",
        "        improvement_factor = 2 - improvement_rate\n",
        "        category_scores[category] = priority * spaced_repetition_factor * improvement_factor\n",
        "\n",
        "    # Add exploration factor (10% chance)\n",
        "    if random.random() < 0.1:\n",
        "        return random.choice(list(error_profile.keys()))\n",
        "\n",
        "    return max(category_scores, key=category_scores.get)\n"
      ],
      "metadata": {
        "id": "SX2isGsB-L8k"
      },
      "execution_count": 25,
      "outputs": []
    },
    {
      "cell_type": "code",
      "source": [
        "def handle_cold_start(user_id: str) -> str:\n",
        "    \"\"\"Handle the cold start problem for new users.\"\"\"\n",
        "    user_profile = get_user_profile(user_id)\n",
        "    session_count = random.randint(1, 10)  # Mock session count\n",
        "\n",
        "    if session_count < 4:\n",
        "        # Cycle through categories for the first few sessions\n",
        "        categories = [\"Grammar\", \"Vocabulary\", \"Pronunciation\", \"Fluency\"]\n",
        "        return categories[session_count % 4]\n",
        "\n",
        "    # Use collaborative filtering (mock implementation)\n",
        "    return random.choice([\"Grammar\", \"Vocabulary\", \"Pronunciation\", \"Fluency\"])"
      ],
      "metadata": {
        "id": "HEFI1VYz-Mxr"
      },
      "execution_count": 26,
      "outputs": []
    },
    {
      "cell_type": "code",
      "source": [
        "def personalize_content(user_id: str, category: str, subcategory: str) -> Dict:\n",
        "    \"\"\"Personalize exercise content for the user.\"\"\"\n",
        "    user_profile = get_user_profile(user_id)\n",
        "    country = user_profile.get(\"country\")\n",
        "    age_band = user_profile.get(\"age_band\")\n",
        "    interests = user_profile.get(\"interests\", [])\n",
        "    proficiency = user_profile.get(\"proficiency_level\")\n",
        "\n",
        "    cultural_themes = map_country_to_themes(country)\n",
        "    difficulty = random.randint(1, 5)  # Mock difficulty mapping\n",
        "\n",
        "    candidate_exercises = find_exercises(category, subcategory, difficulty)\n",
        "    scored_exercises = []\n",
        "\n",
        "    for exercise in candidate_exercises:\n",
        "        score = 1.0\n",
        "        interest_match = len(set(exercise[\"themes\"]).intersection(interests)) / len(exercise[\"themes\"])\n",
        "        score *= (1 + interest_match)\n",
        "        cultural_match = len(set(exercise[\"themes\"]).intersection(cultural_themes)) / len(exercise[\"themes\"])\n",
        "        score *= (1 + cultural_match)\n",
        "        age_match = is_age_appropriate(exercise, age_band)\n",
        "        score *= age_match\n",
        "        format_diversity = get_format_diversity_score(user_id, exercise[\"format\"])\n",
        "        score *= format_diversity\n",
        "        scored_exercises.append((exercise, score))\n",
        "\n",
        "    scored_exercises.sort(key=lambda x: x[1], reverse=True)\n",
        "\n",
        "    if not scored_exercises or scored_exercises[0][1] < 0.5:\n",
        "        return generate_new_exercise(category, subcategory, user_profile)\n",
        "\n",
        "    return scored_exercises[0][0]"
      ],
      "metadata": {
        "id": "qGEBYrer-PtM"
      },
      "execution_count": 27,
      "outputs": []
    },
    {
      "cell_type": "code",
      "execution_count": 28,
      "metadata": {
        "colab": {
          "base_uri": "https://localhost:8080/"
        },
        "id": "Bg5bCbvgp8My",
        "outputId": "1fdf8364-6cbc-4612-9a9f-4ae786a0d6d3"
      },
      "outputs": [
        {
          "output_type": "stream",
          "name": "stdout",
          "text": [
            "Selected Category: Grammar\n",
            "Selected Subcategory: prepositions\n",
            "Recommended Exercise: {'id': 'ex634', 'category': 'Grammar', 'subcategory': 'prepositions', 'difficulty': 2, 'themes': ['Sports', 'Anime'], 'format': 'multiple-choice'}\n"
          ]
        }
      ],
      "source": [
        "# Example Usage\n",
        "if __name__ == \"__main__\":\n",
        "    user_id = \"user123\"\n",
        "    category = select_category(user_id)\n",
        "    subcategory = random.choice([\"prepositions\", \"verb tense\", \"word choice\", \"intonation\"])\n",
        "    exercise = personalize_content(user_id, category, subcategory)\n",
        "\n",
        "    print(f\"Selected Category: {category}\")\n",
        "    print(f\"Selected Subcategory: {subcategory}\")\n",
        "    print(f\"Recommended Exercise: {exercise}\")"
      ]
    },
    {
      "cell_type": "code",
      "source": [],
      "metadata": {
        "id": "yeaE2hUr7gnx"
      },
      "execution_count": null,
      "outputs": []
    },
    {
      "cell_type": "code",
      "source": [],
      "metadata": {
        "id": "44hDGB0_-eR-"
      },
      "execution_count": null,
      "outputs": []
    }
  ]
}